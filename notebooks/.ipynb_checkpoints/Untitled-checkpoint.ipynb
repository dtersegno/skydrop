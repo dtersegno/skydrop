{
 "cells": [
  {
   "cell_type": "markdown",
   "id": "85ccaf06-91e0-4cd4-a641-20f45394ebdc",
   "metadata": {},
   "source": [
    "OCR with tesseract"
   ]
  },
  {
   "cell_type": "code",
   "execution_count": 4,
   "id": "c38efdf5-4be7-4b10-b235-593a9be02865",
   "metadata": {},
   "outputs": [],
   "source": [
    "import cv2\n",
    "import pytesseract\n",
    "import os"
   ]
  },
  {
   "cell_type": "code",
   "execution_count": 7,
   "id": "e343d89f-49eb-4f4b-9c36-120fef52c9c5",
   "metadata": {},
   "outputs": [
    {
     "ename": "IndexError",
     "evalue": "list index out of range",
     "output_type": "error",
     "traceback": [
      "\u001b[1;31m---------------------------------------------------------------------------\u001b[0m",
      "\u001b[1;31mIndexError\u001b[0m                                Traceback (most recent call last)",
      "Cell \u001b[1;32mIn[7], line 5\u001b[0m\n\u001b[0;32m      2\u001b[0m photo_files \u001b[38;5;241m=\u001b[39m os\u001b[38;5;241m.\u001b[39mlistdir(photo_location)\n\u001b[0;32m      4\u001b[0m \u001b[38;5;66;03m#load a sample image\u001b[39;00m\n\u001b[1;32m----> 5\u001b[0m sample_img \u001b[38;5;241m=\u001b[39m cv2\u001b[38;5;241m.\u001b[39mimread(os\u001b[38;5;241m.\u001b[39mpath\u001b[38;5;241m.\u001b[39mjoin(photo_location, \u001b[43mphoto_files\u001b[49m\u001b[43m[\u001b[49m\u001b[38;5;241;43m1\u001b[39;49m\u001b[43m]\u001b[49m))\n\u001b[0;32m      7\u001b[0m \u001b[38;5;66;03m#convert to grayscale\u001b[39;00m\n\u001b[0;32m      8\u001b[0m sample_gray \u001b[38;5;241m=\u001b[39m cv2\u001b[38;5;241m.\u001b[39mcvtColor(sample_img, cv2\u001b[38;5;241m.\u001b[39mCOLOR_BGR2GRAY)\n",
      "\u001b[1;31mIndexError\u001b[0m: list index out of range"
     ]
    }
   ],
   "source": [
    "photo_location = '../photos/'\n",
    "photo_files = os.listdir(photo_location)\n",
    "\n",
    "#load a sample image\n",
    "sample_img = cv2.imread(os.path.join(photo_location, photo_files[0]))\n",
    "\n",
    "#convert to grayscale\n",
    "sample_gray = cv2.cvtColor(sample_img, cv2.COLOR_BGR2GRAY)\n",
    "\n",
    "#apply thresholding to make text stand out\n",
    "\n",
    "_, thresh = cv2.threshold(gray, 150, 255, cv2.THRESH_BINARY_INV)\n",
    "\n",
    "thresh"
   ]
  },
  {
   "cell_type": "code",
   "execution_count": 6,
   "id": "683b1837-43e6-477d-95a9-2d862a615d10",
   "metadata": {},
   "outputs": [],
   "source": [
    "sample_img"
   ]
  },
  {
   "cell_type": "code",
   "execution_count": null,
   "id": "5bd808d3-4ad3-444d-b4d4-9fa768dffd50",
   "metadata": {},
   "outputs": [],
   "source": []
  }
 ],
 "metadata": {
  "kernelspec": {
   "display_name": "Python 3 (ipykernel)",
   "language": "python",
   "name": "python3"
  },
  "language_info": {
   "codemirror_mode": {
    "name": "ipython",
    "version": 3
   },
   "file_extension": ".py",
   "mimetype": "text/x-python",
   "name": "python",
   "nbconvert_exporter": "python",
   "pygments_lexer": "ipython3",
   "version": "3.12.1"
  }
 },
 "nbformat": 4,
 "nbformat_minor": 5
}
