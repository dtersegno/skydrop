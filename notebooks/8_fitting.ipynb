{
 "cells": [
  {
   "cell_type": "markdown",
   "id": "1688c5eb-0785-469d-9b8f-528499a9b670",
   "metadata": {},
   "source": [
    "Fitting\n",
    "---\n",
    "\n",
    "correlation isn't the only indicator of similarity."
   ]
  },
  {
   "cell_type": "code",
   "execution_count": null,
   "id": "659262d8-5024-4f2b-a19e-6f53e6b01b80",
   "metadata": {},
   "outputs": [],
   "source": [
    "import pandas as pd\n",
    "import numpy as np\n",
    "import matplotlib.pyplot as plt\n",
    "\n"
   ]
  }
 ],
 "metadata": {
  "kernelspec": {
   "display_name": "Python 3 (ipykernel)",
   "language": "python",
   "name": "python3"
  },
  "language_info": {
   "codemirror_mode": {
    "name": "ipython",
    "version": 3
   },
   "file_extension": ".py",
   "mimetype": "text/x-python",
   "name": "python",
   "nbconvert_exporter": "python",
   "pygments_lexer": "ipython3",
   "version": "3.12.3"
  }
 },
 "nbformat": 4,
 "nbformat_minor": 5
}
