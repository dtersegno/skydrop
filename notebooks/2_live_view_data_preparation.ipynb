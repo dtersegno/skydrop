{
 "cells": [
  {
   "cell_type": "markdown",
   "id": "f209f9ba-9cd0-438a-8335-3bc37f335dd4",
   "metadata": {},
   "source": [
    "Live view data prepare\n",
    "---"
   ]
  },
  {
   "cell_type": "markdown",
   "id": "87658ff1-f524-49ab-b01e-098736d5ac37",
   "metadata": {},
   "source": [
    "# load photos"
   ]
  },
  {
   "cell_type": "code",
   "execution_count": 1,
   "id": "4c920c3f-745d-44ac-a52b-f0054084e9aa",
   "metadata": {},
   "outputs": [
    {
     "ename": "FileNotFoundError",
     "evalue": "[WinError 3] The system cannot find the path specified: '../photos/live_view/'",
     "output_type": "error",
     "traceback": [
      "\u001b[1;31m---------------------------------------------------------------------------\u001b[0m",
      "\u001b[1;31mFileNotFoundError\u001b[0m                         Traceback (most recent call last)",
      "Cell \u001b[1;32mIn[1], line 6\u001b[0m\n\u001b[0;32m      3\u001b[0m \u001b[38;5;28;01mimport\u001b[39;00m \u001b[38;5;21;01mnumpy\u001b[39;00m \u001b[38;5;28;01mas\u001b[39;00m \u001b[38;5;21;01mnp\u001b[39;00m\n\u001b[0;32m      5\u001b[0m live_view_folder \u001b[38;5;241m=\u001b[39m \u001b[38;5;124m'\u001b[39m\u001b[38;5;124m../photos/live_view/\u001b[39m\u001b[38;5;124m'\u001b[39m\n\u001b[1;32m----> 6\u001b[0m photo_files \u001b[38;5;241m=\u001b[39m \u001b[43mos\u001b[49m\u001b[38;5;241;43m.\u001b[39;49m\u001b[43mlistdir\u001b[49m\u001b[43m(\u001b[49m\u001b[43mlive_view_folder\u001b[49m\u001b[43m)\u001b[49m\n\u001b[0;32m      8\u001b[0m \u001b[38;5;28;01mdef\u001b[39;00m \u001b[38;5;21mimport_image\u001b[39m(path):\n\u001b[0;32m      9\u001b[0m     image_data \u001b[38;5;241m=\u001b[39m \u001b[38;5;28;01mFalse\u001b[39;00m\n",
      "\u001b[1;31mFileNotFoundError\u001b[0m: [WinError 3] The system cannot find the path specified: '../photos/live_view/'"
     ]
    }
   ],
   "source": [
    "import PIL\n",
    "import os\n",
    "import numpy as np\n",
    "\n",
    "live_view_folder = '../photos/live_view/'\n",
    "photo_files = os.listdir(live_view_folder)\n",
    "\n",
    "def import_image(path):\n",
    "    image_data = False\n",
    "    try:\n",
    "        with PIL.Image.open(path) as an_image:\n",
    "            image_data = an_image.copy()\n",
    "        return image_data\n",
    "    except:\n",
    "        pass\n",
    "\n",
    "live_images = [\n",
    "    import_image( os.path.join(live_view_folder, file))\n",
    "    for file in photo_files if file.endswith('.jpg')         \n",
    "]"
   ]
  },
  {
   "cell_type": "code",
   "execution_count": null,
   "id": "5ed71119-a7ca-4268-942e-ee684a3921ca",
   "metadata": {},
   "outputs": [],
   "source": [
    "import datetime as dt\n",
    "import pandas as pd"
   ]
  },
  {
   "cell_type": "code",
   "execution_count": null,
   "id": "9285ed0e-3366-4530-a5db-2b7a06c53422",
   "metadata": {},
   "outputs": [],
   "source": [
    "#the last few don't exist yet.\n",
    "live_images = live_images[:911]"
   ]
  },
  {
   "cell_type": "code",
   "execution_count": null,
   "id": "93496001-1e32-41b9-8d26-9f00bec1907a",
   "metadata": {},
   "outputs": [],
   "source": [
    "all_live_images = np.array([\n",
    "    np.array(image)\n",
    "    for image in live_images\n",
    "])"
   ]
  },
  {
   "cell_type": "code",
   "execution_count": null,
   "id": "84383305-fd69-41a4-a96a-9c050c5a3dc5",
   "metadata": {},
   "outputs": [],
   "source": [
    "#get some statistics on each image\n",
    "sums = [\n",
    "    np.sum(image)\n",
    "    for image in live_images\n",
    "]\n",
    "\n",
    "import matplotlib.pyplot as plt\n",
    "\n",
    "plt.plot(sums)\n",
    "plt.title('total brightness"
   ]
  },
  {
   "cell_type": "code",
   "execution_count": null,
   "id": "0508e89b-772f-48f2-a4ac-8103fafa3058",
   "metadata": {},
   "outputs": [],
   "source": [
    "np.unique([np.array(image).shape for image in live_images])\n"
   ]
  },
  {
   "cell_type": "markdown",
   "id": "4bf903c6-f078-4e1f-a655-289951329618",
   "metadata": {},
   "source": [
    "all images are 1024x720x3"
   ]
  },
  {
   "cell_type": "code",
   "execution_count": null,
   "id": "f26976f3-e1e2-4932-b075-58151949057a",
   "metadata": {},
   "outputs": [],
   "source": [
    "exif_data = [\n",
    "    [thing\n",
    "    for thing in live_image.getexif().items()]\n",
    "    for live_image in live_images\n",
    "]\n",
    "\n",
    "exif_data[:4]"
   ]
  },
  {
   "cell_type": "code",
   "execution_count": null,
   "id": "d1e44154-231b-4717-b165-eaf03a936fb3",
   "metadata": {},
   "outputs": [],
   "source": [
    "#image dataframe.\n",
    "\n",
    "codes = [296, 34665, 271, 272, 306, 531, 282, 283]\n",
    "\n",
    "col_to_code = dict(zip(\n",
    "    range(8),\n",
    "    codes\n",
    "))\n",
    "\n",
    "descriptions = [\n",
    "    'Resolution unit',\n",
    "    'ExifIFDPointer',\n",
    "    'Make',\n",
    "    'Model',\n",
    "    'date',\n",
    "    'YCbCrPositioning',\n",
    "    'XResolution',\n",
    "    'YResolution'    \n",
    "]\n",
    "\n",
    "code_to_description = dict(zip( codes, descriptions))\n",
    "\n",
    "\n",
    "col_to_description = dict(zip(range(8), descriptions))\n",
    "\n",
    "idf = pd.DataFrame(exif_data)\n",
    "\n",
    "idf.rename(columns = col_to_description, inplace=True)\n",
    "\n",
    "idf = idf.map(lambda entry: entry[1])\n",
    "idf"
   ]
  },
  {
   "cell_type": "code",
   "execution_count": null,
   "id": "dd16e0e6-7099-4553-a695-760fff06b1ab",
   "metadata": {},
   "outputs": [],
   "source": [
    "idf['date'] = pd.to_datetime(idf['date'], format = '%Y:%m:%d %H:%M:%S')\n",
    "\n",
    "idf"
   ]
  },
  {
   "cell_type": "code",
   "execution_count": null,
   "id": "ca2c28c7-1d84-4bc5-8273-88358c694a33",
   "metadata": {},
   "outputs": [],
   "source": [
    "idf.info()"
   ]
  },
  {
   "cell_type": "code",
   "execution_count": null,
   "id": "2b5ca35e-917c-4d4f-8ec2-cd6ce91f58f1",
   "metadata": {},
   "outputs": [],
   "source": [
    "idf.plot('date', 'Resolution unit', kind = 'scatter', figsize = (12,5))"
   ]
  },
  {
   "cell_type": "code",
   "execution_count": null,
   "id": "08a79a4e-757d-42d9-8061-034390b88884",
   "metadata": {},
   "outputs": [],
   "source": [
    "idf"
   ]
  },
  {
   "cell_type": "code",
   "execution_count": null,
   "id": "b56f4975-74de-4bd8-8de7-41a21dfbf022",
   "metadata": {},
   "outputs": [],
   "source": [
    "np.array(live_images[0]).shape"
   ]
  },
  {
   "cell_type": "code",
   "execution_count": null,
   "id": "7d10b25a-ee14-404e-9365-84253f513adb",
   "metadata": {
    "scrolled": true
   },
   "outputs": [],
   "source": [
    "#save image shape\n",
    "for index in idf.index:\n",
    "    # print(index)\n",
    "    idf.loc[index, 'image_shape'] = str(np.array(live_images[int(index)]).shape)\n",
    "\n",
    "#save some statistics about each image\n",
    "\n",
    "#get the sum of the numpy array data\n",
    "for index in idf.index:\n",
    "    idf.loc[index, 'sum_brightness'] = np.array(live_images[index]).sum()\n",
    "    \n",
    "idf"
   ]
  },
  {
   "cell_type": "code",
   "execution_count": null,
   "id": "5b03a3b5-e2ac-4f20-a828-01bae7861b2b",
   "metadata": {},
   "outputs": [],
   "source": [
    "idf.plot(x='date', y='sum_brightness')"
   ]
  },
  {
   "cell_type": "code",
   "execution_count": null,
   "id": "9d897d3f-342e-4090-a60e-32d6b1b7cf46",
   "metadata": {},
   "outputs": [],
   "source": [
    "idf.loc[idf['sum_brightness'] == idf['sum_brightness'].drop([349, 350]).min()]"
   ]
  },
  {
   "cell_type": "code",
   "execution_count": null,
   "id": "02290418-3097-418f-8ea4-7d2806efe03e",
   "metadata": {},
   "outputs": [],
   "source": [
    "def display_value_counts(dataframe, column, vc_limit = 5, normalize = True):\n",
    "    value_counts = dataframe[column].value_counts(normalize = normalize)\n",
    "    if len(value_counts) <= vc_limit:\n",
    "        print(value_counts)\n",
    "    else:\n",
    "        print(f\"{column} has \\t{len(value_counts)} distinct values\")\n",
    "\n",
    "hbar = '='*50\n",
    "\n",
    "print(hbar)\n",
    "for column in idf.columns:\n",
    "    display_value_counts(idf, column)\n",
    "    print(hbar)\n"
   ]
  },
  {
   "cell_type": "code",
   "execution_count": null,
   "id": "e4ab861b-b2e1-44a7-acf7-d72c34bdda18",
   "metadata": {},
   "outputs": [],
   "source": [
    "idf['date'].value_counts(ascending = False)[:20]"
   ]
  },
  {
   "cell_type": "code",
   "execution_count": null,
   "id": "63f20cb0-2e7b-49dd-bd28-80866d3c4447",
   "metadata": {},
   "outputs": [],
   "source": [
    "sum_brightness_vcs = idf['sum_brightness'].value_counts(ascending = False)\n",
    "#for every sum_brightness vcs greater than 1, get the entries with that value.\n",
    "\n",
    "for thing in sum_brightness_vcs[sum_brightness_vcs:\n",
    "    pass"
   ]
  },
  {
   "cell_type": "code",
   "execution_count": null,
   "id": "76445af0-7eda-4b5c-aa5e-978f21cbd12b",
   "metadata": {},
   "outputs": [],
   "source": [
    "#strange. there are six duplicate sets of times.\n",
    "#but only 3 duplicate sets of sum brightness. So these aren't all just copies.\n",
    "\n",
    "for this_sum in sum_brightness_vcs.index:\n",
    "    if sum_brightness_vcs[this_sum] > 1:\n",
    "        print(idf.loc[ idf['sum_brightness'] == this_sum ])"
   ]
  },
  {
   "cell_type": "code",
   "execution_count": null,
   "id": "293b7f42-838b-4534-afd3-ce85977255f1",
   "metadata": {},
   "outputs": [],
   "source": [
    "idf.loc[this_date_mask].index"
   ]
  },
  {
   "cell_type": "code",
   "execution_count": null,
   "id": "6248d859-1053-4ce6-b41d-676107ba16f9",
   "metadata": {},
   "outputs": [],
   "source": [
    "#ok, so the three sets with the same sum are all taken at the same time. These may be repeat images.\n",
    "\n",
    "#so the other three sets are photos taken at different times with the same sum brightness. What're the odds of that??\n",
    "\n",
    "date_vcs = idf['date'].value_counts(ascending = False)\n",
    "\n",
    "same_date_index = []\n",
    "\n",
    "for this_date in date_vcs.index:\n",
    "    if date_vcs[this_date] > 1:\n",
    "        this_date_mask = idf['date'] == this_date\n",
    "        print(idf.loc[ this_date_mask ])\n",
    "        same_date_index = same_date_index +  list(idf.loc[this_date_mask].index)\n",
    "same_date_index"
   ]
  },
  {
   "cell_type": "code",
   "execution_count": 243,
   "id": "bf73e2a2-8b6a-4a3c-8f08-5fab4f31ef00",
   "metadata": {},
   "outputs": [
    {
     "ename": "IndexingError",
     "evalue": "Unalignable boolean Series provided as indexer (index of the boolean Series and of the indexed object do not match).",
     "output_type": "error",
     "traceback": [
      "\u001b[1;31m---------------------------------------------------------------------------\u001b[0m",
      "\u001b[1;31mIndexingError\u001b[0m                             Traceback (most recent call last)",
      "Cell \u001b[1;32mIn[243], line 8\u001b[0m\n\u001b[0;32m      6\u001b[0m this_date \u001b[38;5;241m=\u001b[39m record[\u001b[38;5;124m'\u001b[39m\u001b[38;5;124mdate\u001b[39m\u001b[38;5;124m'\u001b[39m]\n\u001b[0;32m      7\u001b[0m this_brightness \u001b[38;5;241m=\u001b[39m record[\u001b[38;5;124m'\u001b[39m\u001b[38;5;124msum_brightness\u001b[39m\u001b[38;5;124m'\u001b[39m]\n\u001b[1;32m----> 8\u001b[0m shared_date_index \u001b[38;5;241m=\u001b[39m \u001b[43midf\u001b[49m\u001b[38;5;241;43m.\u001b[39;49m\u001b[43mloc\u001b[49m\u001b[43m[\u001b[49m\u001b[43m(\u001b[49m\u001b[43midf\u001b[49m\u001b[38;5;241;43m.\u001b[39;49m\u001b[43mdrop\u001b[49m\u001b[43m(\u001b[49m\u001b[43mindex\u001b[49m\u001b[43m)\u001b[49m\u001b[43m[\u001b[49m\u001b[38;5;124;43m'\u001b[39;49m\u001b[38;5;124;43mdate\u001b[39;49m\u001b[38;5;124;43m'\u001b[39;49m\u001b[43m]\u001b[49m\u001b[43m \u001b[49m\u001b[38;5;241;43m==\u001b[39;49m\u001b[43m \u001b[49m\u001b[43mthis_date\u001b[49m\u001b[43m)\u001b[49m\u001b[43m]\u001b[49m\u001b[38;5;241m.\u001b[39mindex\n\u001b[0;32m      9\u001b[0m shared_brightness_index \u001b[38;5;241m=\u001b[39m idf\u001b[38;5;241m.\u001b[39mloc[(idf\u001b[38;5;241m.\u001b[39mdrop(index)[\u001b[38;5;124m'\u001b[39m\u001b[38;5;124msum_brightness\u001b[39m\u001b[38;5;124m'\u001b[39m] \u001b[38;5;241m==\u001b[39m this_brightness)]\u001b[38;5;241m.\u001b[39mindex\n\u001b[0;32m     10\u001b[0m idf\u001b[38;5;241m.\u001b[39mloc[index, \u001b[38;5;124m'\u001b[39m\u001b[38;5;124mshares_date_with\u001b[39m\u001b[38;5;124m'\u001b[39m] \u001b[38;5;241m=\u001b[39m \u001b[38;5;28mstr\u001b[39m(shared_date_index)\n",
      "File \u001b[1;32mC:\\Program Files\\Python312\\Lib\\site-packages\\pandas\\core\\indexing.py:1191\u001b[0m, in \u001b[0;36m_LocationIndexer.__getitem__\u001b[1;34m(self, key)\u001b[0m\n\u001b[0;32m   1189\u001b[0m maybe_callable \u001b[38;5;241m=\u001b[39m com\u001b[38;5;241m.\u001b[39mapply_if_callable(key, \u001b[38;5;28mself\u001b[39m\u001b[38;5;241m.\u001b[39mobj)\n\u001b[0;32m   1190\u001b[0m maybe_callable \u001b[38;5;241m=\u001b[39m \u001b[38;5;28mself\u001b[39m\u001b[38;5;241m.\u001b[39m_check_deprecated_callable_usage(key, maybe_callable)\n\u001b[1;32m-> 1191\u001b[0m \u001b[38;5;28;01mreturn\u001b[39;00m \u001b[38;5;28;43mself\u001b[39;49m\u001b[38;5;241;43m.\u001b[39;49m\u001b[43m_getitem_axis\u001b[49m\u001b[43m(\u001b[49m\u001b[43mmaybe_callable\u001b[49m\u001b[43m,\u001b[49m\u001b[43m \u001b[49m\u001b[43maxis\u001b[49m\u001b[38;5;241;43m=\u001b[39;49m\u001b[43maxis\u001b[49m\u001b[43m)\u001b[49m\n",
      "File \u001b[1;32mC:\\Program Files\\Python312\\Lib\\site-packages\\pandas\\core\\indexing.py:1413\u001b[0m, in \u001b[0;36m_LocIndexer._getitem_axis\u001b[1;34m(self, key, axis)\u001b[0m\n\u001b[0;32m   1411\u001b[0m     \u001b[38;5;28;01mreturn\u001b[39;00m \u001b[38;5;28mself\u001b[39m\u001b[38;5;241m.\u001b[39m_get_slice_axis(key, axis\u001b[38;5;241m=\u001b[39maxis)\n\u001b[0;32m   1412\u001b[0m \u001b[38;5;28;01melif\u001b[39;00m com\u001b[38;5;241m.\u001b[39mis_bool_indexer(key):\n\u001b[1;32m-> 1413\u001b[0m     \u001b[38;5;28;01mreturn\u001b[39;00m \u001b[38;5;28;43mself\u001b[39;49m\u001b[38;5;241;43m.\u001b[39;49m\u001b[43m_getbool_axis\u001b[49m\u001b[43m(\u001b[49m\u001b[43mkey\u001b[49m\u001b[43m,\u001b[49m\u001b[43m \u001b[49m\u001b[43maxis\u001b[49m\u001b[38;5;241;43m=\u001b[39;49m\u001b[43maxis\u001b[49m\u001b[43m)\u001b[49m\n\u001b[0;32m   1414\u001b[0m \u001b[38;5;28;01melif\u001b[39;00m is_list_like_indexer(key):\n\u001b[0;32m   1415\u001b[0m     \u001b[38;5;66;03m# an iterable multi-selection\u001b[39;00m\n\u001b[0;32m   1416\u001b[0m     \u001b[38;5;28;01mif\u001b[39;00m \u001b[38;5;129;01mnot\u001b[39;00m (\u001b[38;5;28misinstance\u001b[39m(key, \u001b[38;5;28mtuple\u001b[39m) \u001b[38;5;129;01mand\u001b[39;00m \u001b[38;5;28misinstance\u001b[39m(labels, MultiIndex)):\n",
      "File \u001b[1;32mC:\\Program Files\\Python312\\Lib\\site-packages\\pandas\\core\\indexing.py:1209\u001b[0m, in \u001b[0;36m_LocationIndexer._getbool_axis\u001b[1;34m(self, key, axis)\u001b[0m\n\u001b[0;32m   1205\u001b[0m \u001b[38;5;129m@final\u001b[39m\n\u001b[0;32m   1206\u001b[0m \u001b[38;5;28;01mdef\u001b[39;00m \u001b[38;5;21m_getbool_axis\u001b[39m(\u001b[38;5;28mself\u001b[39m, key, axis: AxisInt):\n\u001b[0;32m   1207\u001b[0m     \u001b[38;5;66;03m# caller is responsible for ensuring non-None axis\u001b[39;00m\n\u001b[0;32m   1208\u001b[0m     labels \u001b[38;5;241m=\u001b[39m \u001b[38;5;28mself\u001b[39m\u001b[38;5;241m.\u001b[39mobj\u001b[38;5;241m.\u001b[39m_get_axis(axis)\n\u001b[1;32m-> 1209\u001b[0m     key \u001b[38;5;241m=\u001b[39m \u001b[43mcheck_bool_indexer\u001b[49m\u001b[43m(\u001b[49m\u001b[43mlabels\u001b[49m\u001b[43m,\u001b[49m\u001b[43m \u001b[49m\u001b[43mkey\u001b[49m\u001b[43m)\u001b[49m\n\u001b[0;32m   1210\u001b[0m     inds \u001b[38;5;241m=\u001b[39m key\u001b[38;5;241m.\u001b[39mnonzero()[\u001b[38;5;241m0\u001b[39m]\n\u001b[0;32m   1211\u001b[0m     \u001b[38;5;28;01mreturn\u001b[39;00m \u001b[38;5;28mself\u001b[39m\u001b[38;5;241m.\u001b[39mobj\u001b[38;5;241m.\u001b[39m_take_with_is_copy(inds, axis\u001b[38;5;241m=\u001b[39maxis)\n",
      "File \u001b[1;32mC:\\Program Files\\Python312\\Lib\\site-packages\\pandas\\core\\indexing.py:2662\u001b[0m, in \u001b[0;36mcheck_bool_indexer\u001b[1;34m(index, key)\u001b[0m\n\u001b[0;32m   2660\u001b[0m indexer \u001b[38;5;241m=\u001b[39m result\u001b[38;5;241m.\u001b[39mindex\u001b[38;5;241m.\u001b[39mget_indexer_for(index)\n\u001b[0;32m   2661\u001b[0m \u001b[38;5;28;01mif\u001b[39;00m \u001b[38;5;241m-\u001b[39m\u001b[38;5;241m1\u001b[39m \u001b[38;5;129;01min\u001b[39;00m indexer:\n\u001b[1;32m-> 2662\u001b[0m     \u001b[38;5;28;01mraise\u001b[39;00m IndexingError(\n\u001b[0;32m   2663\u001b[0m         \u001b[38;5;124m\"\u001b[39m\u001b[38;5;124mUnalignable boolean Series provided as \u001b[39m\u001b[38;5;124m\"\u001b[39m\n\u001b[0;32m   2664\u001b[0m         \u001b[38;5;124m\"\u001b[39m\u001b[38;5;124mindexer (index of the boolean Series and of \u001b[39m\u001b[38;5;124m\"\u001b[39m\n\u001b[0;32m   2665\u001b[0m         \u001b[38;5;124m\"\u001b[39m\u001b[38;5;124mthe indexed object do not match).\u001b[39m\u001b[38;5;124m\"\u001b[39m\n\u001b[0;32m   2666\u001b[0m     )\n\u001b[0;32m   2668\u001b[0m result \u001b[38;5;241m=\u001b[39m result\u001b[38;5;241m.\u001b[39mtake(indexer)\n\u001b[0;32m   2670\u001b[0m \u001b[38;5;66;03m# fall through for boolean\u001b[39;00m\n",
      "\u001b[1;31mIndexingError\u001b[0m: Unalignable boolean Series provided as indexer (index of the boolean Series and of the indexed object do not match)."
     ]
    }
   ],
   "source": [
    "#show all same-date guys\n",
    "idf.loc[same_date_index]\n",
    "\n",
    "#add a new column linking them to the other\n",
    "for index, record in idf.iterrows():\n",
    "    this_date = record['date']\n",
    "    this_brightness = record['sum_brightness']\n",
    "    shared_date_index = idf.loc[(idf.drop(index)['date'] == this_date)].index\n",
    "    shared_brightness_index = idf.loc[(idf.drop(index)['sum_brightness'] == this_brightness)].index\n",
    "    idf.loc[index, 'shares_date_with'] = str(shared_date_index)\n",
    "    idf.loc[index, 'shares_brightness_with'] = str(shared_brightness_index)\n",
    "\n",
    "idf"
   ]
  },
  {
   "cell_type": "code",
   "execution_count": null,
   "id": "b7337e2c-e701-485d-9873-6a08a15e34ad",
   "metadata": {},
   "outputs": [],
   "source": []
  }
 ],
 "metadata": {
  "kernelspec": {
   "display_name": "Python 3 (ipykernel)",
   "language": "python",
   "name": "python3"
  },
  "language_info": {
   "codemirror_mode": {
    "name": "ipython",
    "version": 3
   },
   "file_extension": ".py",
   "mimetype": "text/x-python",
   "name": "python",
   "nbconvert_exporter": "python",
   "pygments_lexer": "ipython3",
   "version": "3.12.1"
  }
 },
 "nbformat": 4,
 "nbformat_minor": 5
}
