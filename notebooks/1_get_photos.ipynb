{
 "cells": [
  {
   "cell_type": "markdown",
   "id": "a23bca31-c55f-4fc7-81aa-fa72062d95f9",
   "metadata": {},
   "source": [
    "live view photos\n",
    "---\n",
    "\n",
    "\n",
    "To download live feed or motion feed images,\n",
    "\n",
    "```python\n",
    "download_all_images(most_recent_im_number, start_im_number = 1, archive = 'A')\n",
    "```"
   ]
  },
  {
   "cell_type": "code",
   "execution_count": 1,
   "id": "9625433b-3fd2-4bb3-b60b-e755eaee2463",
   "metadata": {},
   "outputs": [],
   "source": [
    "import PIL\n",
    "from bs4 import BeautifulSoup\n",
    "import os\n",
    "import requests\n",
    "\n",
    "skydrop_url = 'https://projectskydrop.com/'\n",
    "live_feed_page = os.path.join(skydrop_url, 'cameras/archiveA/')\n",
    "motion_page = os.path.join(skydrop_url, 'cameras/archiveB/')\n",
    "\n",
    "paginator = '/index.php?page='\n",
    "\n",
    "results = requests.get(live_feed_page)\n",
    "results.status_code\n",
    "\n",
    "bs = BeautifulSoup(results.content, 'html.parser')"
   ]
  },
  {
   "cell_type": "code",
   "execution_count": 4,
   "id": "651c7e21-41bc-43d7-ab13-1a58cb726967",
   "metadata": {},
   "outputs": [],
   "source": [
    "#download all the live feed images\n",
    "\n",
    "photo_repository = '../photos/'\n",
    "live_feed_url_format = 'https://projectskydrop.com/cameras/archive{}/{}'\n",
    "\n",
    "def download_all_images(most_recent_im_number, start_im_number = 1, archive = 'A'):\n",
    "    archive_filename = {'A':'live_view/','B':'motion/'}[archive]\n",
    "    for pic_no in range(start_im_number, most_recent_im_number + 1):\n",
    "        pic_no_filename = str(pic_no).rjust(6, '0') + '.jpg'\n",
    "        response = requests.get(live_feed_url_format.format(archive, pic_no_filename))\n",
    "        with open(photo_repository + archive_filename + pic_no_filename, 'wb') as photo_file:\n",
    "            photo_file.write(response.content)\n",
    "\n"
   ]
  },
  {
   "cell_type": "code",
   "execution_count": null,
   "id": "7e1bea07-cdaa-4470-8aff-9baea13f8953",
   "metadata": {},
   "outputs": [],
   "source": [
    "most_recent_live_image = 1015\n",
    "download_all_images(most_recent_live_image,1,'A')"
   ]
  },
  {
   "cell_type": "code",
   "execution_count": 6,
   "id": "d5aeb92f-136e-4c1d-bf06-68b210245fdc",
   "metadata": {},
   "outputs": [],
   "source": [
    "#sept 29\n",
    "\n",
    "#motion images\n",
    "saved_motion_images = 135\n",
    "most_recent_motion_image = 144\n",
    "download_all_images(most_recent_motion_image, start_im_number=saved_motion_images, archive = \"B\")\n",
    "\n",
    "#live feed images\n",
    "saved_live_images = 1015\n",
    "most_recent_live_image = 1227\n",
    "download_all_images(most_recent_live_image, start_im_number=saved_live_images, archive = \"A\")"
   ]
  },
  {
   "cell_type": "code",
   "execution_count": null,
   "id": "4866dd7c-9814-41d6-b332-d7e266d1f48c",
   "metadata": {},
   "outputs": [],
   "source": []
  },
  {
   "cell_type": "code",
   "execution_count": null,
   "id": "e998c97f-b7fe-41f6-b4f3-ff04e8a699e1",
   "metadata": {},
   "outputs": [],
   "source": []
  }
 ],
 "metadata": {
  "kernelspec": {
   "display_name": "Python 3 (ipykernel)",
   "language": "python",
   "name": "python3"
  },
  "language_info": {
   "codemirror_mode": {
    "name": "ipython",
    "version": 3
   },
   "file_extension": ".py",
   "mimetype": "text/x-python",
   "name": "python",
   "nbconvert_exporter": "python",
   "pygments_lexer": "ipython3",
   "version": "3.12.1"
  }
 },
 "nbformat": 4,
 "nbformat_minor": 5
}
