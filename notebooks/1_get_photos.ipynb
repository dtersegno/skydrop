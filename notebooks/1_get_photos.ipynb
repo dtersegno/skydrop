{
 "cells": [
  {
   "cell_type": "markdown",
   "id": "a23bca31-c55f-4fc7-81aa-fa72062d95f9",
   "metadata": {},
   "source": [
    "live view photos\n",
    "---\n",
    "\n",
    "\n",
    "To download live feed or motion feed images,\n",
    "\n",
    "```python\n",
    "download_all_images(most_recent_im_number, start_im_number = 1, archive = 'A')\n",
    "```"
   ]
  },
  {
   "cell_type": "code",
   "execution_count": 8,
   "id": "9625433b-3fd2-4bb3-b60b-e755eaee2463",
   "metadata": {},
   "outputs": [],
   "source": [
    "import PIL\n",
    "from bs4 import BeautifulSoup\n",
    "import os\n",
    "import requests\n",
    "\n",
    "skydrop_url = 'https://projectskydrop.com/'\n",
    "live_feed_page = os.path.join(skydrop_url, 'cameras/archiveA/')\n",
    "motion_page = os.path.join(skydrop_url, 'cameras/archiveB/')\n",
    "\n",
    "paginator = '/index.php?page='\n",
    "\n",
    "results = requests.get(live_feed_page)\n",
    "results.status_code\n",
    "\n",
    "\n",
    "bs = BeautifulSoup(results.content, 'html.parser')"
   ]
  },
  {
   "cell_type": "code",
   "execution_count": 17,
   "id": "027891d1-0883-4fac-aaf3-b4ea3e23bc54",
   "metadata": {},
   "outputs": [
    {
     "data": {
      "text/plain": [
       "'000909.jpg'"
      ]
     },
     "execution_count": 17,
     "metadata": {},
     "output_type": "execute_result"
    }
   ],
   "source": [
    "bs.find_all('a')[1]['href']"
   ]
  },
  {
   "cell_type": "code",
   "execution_count": 28,
   "id": "f4cb5376-c492-43c7-9e63-f243e658df05",
   "metadata": {},
   "outputs": [
    {
     "data": {
      "text/plain": [
       "<Response [404]>"
      ]
     },
     "execution_count": 28,
     "metadata": {},
     "output_type": "execute_result"
    }
   ],
   "source": [
    "requests.get(live_feed_url_format.format('5'.ljust(7,'0')))"
   ]
  },
  {
   "cell_type": "code",
   "execution_count": 33,
   "id": "914f700a-6eab-481a-8bb8-6e4575a5a18a",
   "metadata": {},
   "outputs": [
    {
     "data": {
      "text/plain": [
       "'https://projectskydrop.com/cameras/archiveA/000005.jpg'"
      ]
     },
     "execution_count": 33,
     "metadata": {},
     "output_type": "execute_result"
    }
   ],
   "source": [
    "live_feed_url_format.format('5'.rjust(6,'0'))"
   ]
  },
  {
   "cell_type": "code",
   "execution_count": 43,
   "id": "651c7e21-41bc-43d7-ab13-1a58cb726967",
   "metadata": {},
   "outputs": [],
   "source": [
    "#download all the live feed images\n",
    "\n",
    "photo_repository = '../photos/'\n",
    "live_feed_url_format = 'https://projectskydrop.com/cameras/archiveA/{}'\n",
    "\n",
    "def download_all_images(most_recent_im_number, start_im_number = 1, archive = 'A'):\n",
    "    archive_filename = {'A':'live_view/','B':'motion/'}[archive]\n",
    "    for pic_no in range(start_im_number, most_recent_im_number + 1):\n",
    "        pic_no_filename = str(pic_no).rjust(6, '0') + '.jpg'\n",
    "        response = requests.get(live_feed_url_format.format(pic_no_filename))\n",
    "        with open(photo_repository + archive_filename + pic_no_filename, 'wb') as photo_file:\n",
    "            photo_file.write(response.content)\n",
    "            \n",
    "download_all_images(135,1,'B')"
   ]
  },
  {
   "cell_type": "code",
   "execution_count": null,
   "id": "7e1bea07-cdaa-4470-8aff-9baea13f8953",
   "metadata": {},
   "outputs": [],
   "source": []
  }
 ],
 "metadata": {
  "kernelspec": {
   "display_name": "Python 3 (ipykernel)",
   "language": "python",
   "name": "python3"
  },
  "language_info": {
   "codemirror_mode": {
    "name": "ipython",
    "version": 3
   },
   "file_extension": ".py",
   "mimetype": "text/x-python",
   "name": "python",
   "nbconvert_exporter": "python",
   "pygments_lexer": "ipython3",
   "version": "3.12.3"
  }
 },
 "nbformat": 4,
 "nbformat_minor": 5
}
